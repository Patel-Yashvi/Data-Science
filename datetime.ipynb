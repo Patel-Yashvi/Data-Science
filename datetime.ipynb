{
  "metadata": {
    "kernelspec": {
      "name": "python",
      "display_name": "Python (Pyodide)",
      "language": "python"
    },
    "language_info": {
      "codemirror_mode": {
        "name": "python",
        "version": 3
      },
      "file_extension": ".py",
      "mimetype": "text/x-python",
      "name": "python",
      "nbconvert_exporter": "python",
      "pygments_lexer": "ipython3",
      "version": "3.8"
    }
  },
  "nbformat_minor": 4,
  "nbformat": 4,
  "cells": [
    {
      "cell_type": "code",
      "source": "from datetime import datetime\nimport numpy as np",
      "metadata": {
        "trusted": true
      },
      "outputs": [],
      "execution_count": 3
    },
    {
      "cell_type": "code",
      "source": "datetime?",
      "metadata": {
        "trusted": true
      },
      "outputs": [
        {
          "name": "stdout",
          "text": "\u001b[0;31mInit signature:\u001b[0m \u001b[0mdatetime\u001b[0m\u001b[0;34m(\u001b[0m\u001b[0mself\u001b[0m\u001b[0;34m,\u001b[0m \u001b[0;34m/\u001b[0m\u001b[0;34m,\u001b[0m \u001b[0;34m*\u001b[0m\u001b[0margs\u001b[0m\u001b[0;34m,\u001b[0m \u001b[0;34m**\u001b[0m\u001b[0mkwargs\u001b[0m\u001b[0;34m)\u001b[0m\u001b[0;34m\u001b[0m\u001b[0;34m\u001b[0m\u001b[0m\n\u001b[0;31mDocstring:\u001b[0m     \ndatetime(year, month, day[, hour[, minute[, second[, microsecond[,tzinfo]]]]])\n\nThe year, month and day arguments are required. tzinfo may be None, or an\ninstance of a tzinfo subclass. The remaining arguments may be ints.\n\u001b[0;31mFile:\u001b[0m           /lib/python311.zip/datetime.py\n\u001b[0;31mType:\u001b[0m           type\n\u001b[0;31mSubclasses:\u001b[0m     \n",
          "output_type": "stream"
        }
      ],
      "execution_count": 4
    },
    {
      "cell_type": "code",
      "source": "date = np.array('2021-07-04', dtype=np.datetime64)\ndate",
      "metadata": {
        "trusted": true
      },
      "outputs": [
        {
          "execution_count": 5,
          "output_type": "execute_result",
          "data": {
            "text/plain": "array('2021-07-04', dtype='datetime64[D]')"
          },
          "metadata": {}
        }
      ],
      "execution_count": 5
    },
    {
      "cell_type": "code",
      "source": "#dateutil module can pharse dates from variety of strings",
      "metadata": {
        "trusted": true
      },
      "outputs": [],
      "execution_count": 6
    },
    {
      "cell_type": "code",
      "source": "date+np.arange(12)",
      "metadata": {
        "trusted": true
      },
      "outputs": [
        {
          "execution_count": 7,
          "output_type": "execute_result",
          "data": {
            "text/plain": "array(['2021-07-04', '2021-07-05', '2021-07-06', '2021-07-07',\n       '2021-07-08', '2021-07-09', '2021-07-10', '2021-07-11',\n       '2021-07-12', '2021-07-13', '2021-07-14', '2021-07-15'],\n      dtype='datetime64[D]')"
          },
          "metadata": {}
        }
      ],
      "execution_count": 7
    },
    {
      "cell_type": "code",
      "source": "date+np.arange(1,2)",
      "metadata": {
        "trusted": true
      },
      "outputs": [
        {
          "execution_count": 8,
          "output_type": "execute_result",
          "data": {
            "text/plain": "array(['2021-07-05'], dtype='datetime64[D]')"
          },
          "metadata": {}
        }
      ],
      "execution_count": 8
    },
    {
      "cell_type": "code",
      "source": "date+np.arange(30)",
      "metadata": {
        "trusted": true
      },
      "outputs": [
        {
          "execution_count": 9,
          "output_type": "execute_result",
          "data": {
            "text/plain": "array(['2021-07-04', '2021-07-05', '2021-07-06', '2021-07-07',\n       '2021-07-08', '2021-07-09', '2021-07-10', '2021-07-11',\n       '2021-07-12', '2021-07-13', '2021-07-14', '2021-07-15',\n       '2021-07-16', '2021-07-17', '2021-07-18', '2021-07-19',\n       '2021-07-20', '2021-07-21', '2021-07-22', '2021-07-23',\n       '2021-07-24', '2021-07-25', '2021-07-26', '2021-07-27',\n       '2021-07-28', '2021-07-29', '2021-07-30', '2021-07-31',\n       '2021-08-01', '2021-08-02'], dtype='datetime64[D]')"
          },
          "metadata": {}
        }
      ],
      "execution_count": 9
    },
    {
      "cell_type": "code",
      "source": "np.datetime64('2021-07-04 12:59:59.50','W')",
      "metadata": {
        "trusted": true
      },
      "outputs": [
        {
          "execution_count": 10,
          "output_type": "execute_result",
          "data": {
            "text/plain": "numpy.datetime64('2021-07-01')"
          },
          "metadata": {}
        }
      ],
      "execution_count": 10
    },
    {
      "cell_type": "code",
      "source": "import pandas as pd \ndate = pd.to_datetime(\"4th of july,2021\")\ndate",
      "metadata": {
        "trusted": true
      },
      "outputs": [
        {
          "execution_count": 11,
          "output_type": "execute_result",
          "data": {
            "text/plain": "Timestamp('2021-07-04 00:00:00')"
          },
          "metadata": {}
        }
      ],
      "execution_count": 11
    },
    {
      "cell_type": "code",
      "source": "date.strftime('%A')\n#day",
      "metadata": {
        "trusted": true
      },
      "outputs": [
        {
          "execution_count": 12,
          "output_type": "execute_result",
          "data": {
            "text/plain": "'Sunday'"
          },
          "metadata": {}
        }
      ],
      "execution_count": 12
    },
    {
      "cell_type": "code",
      "source": "date.strftime('%B')\n#month",
      "metadata": {
        "trusted": true
      },
      "outputs": [
        {
          "execution_count": 13,
          "output_type": "execute_result",
          "data": {
            "text/plain": "'July'"
          },
          "metadata": {}
        }
      ],
      "execution_count": 13
    },
    {
      "cell_type": "code",
      "source": "date.strftime('%D')\n#date",
      "metadata": {
        "trusted": true
      },
      "outputs": [
        {
          "execution_count": 14,
          "output_type": "execute_result",
          "data": {
            "text/plain": "'07/04/21'"
          },
          "metadata": {}
        }
      ],
      "execution_count": 14
    },
    {
      "cell_type": "code",
      "source": "date.strftime('%c')",
      "metadata": {
        "trusted": true
      },
      "outputs": [
        {
          "execution_count": 15,
          "output_type": "execute_result",
          "data": {
            "text/plain": "'Sun Jul 04 00:00:00 2021'"
          },
          "metadata": {}
        }
      ],
      "execution_count": 15
    },
    {
      "cell_type": "code",
      "source": "date.strftime('%C')\n#century ",
      "metadata": {
        "trusted": true
      },
      "outputs": [
        {
          "execution_count": 16,
          "output_type": "execute_result",
          "data": {
            "text/plain": "'20'"
          },
          "metadata": {}
        }
      ],
      "execution_count": 16
    },
    {
      "cell_type": "code",
      "source": "date + pd.to_timedelta(np.arange(12),'D')",
      "metadata": {
        "trusted": true
      },
      "outputs": [
        {
          "execution_count": 17,
          "output_type": "execute_result",
          "data": {
            "text/plain": "DatetimeIndex(['2021-07-04', '2021-07-05', '2021-07-06', '2021-07-07',\n               '2021-07-08', '2021-07-09', '2021-07-10', '2021-07-11',\n               '2021-07-12', '2021-07-13', '2021-07-14', '2021-07-15'],\n              dtype='datetime64[ns]', freq=None)"
          },
          "metadata": {}
        }
      ],
      "execution_count": 17
    },
    {
      "cell_type": "code",
      "source": "index = pd.DatetimeIndex(['2020-07-04','2020-08-04','2021-07-04','2021-08-04'])\ndata =  pd.Series([0,1,2,3],index=index)\ndata",
      "metadata": {
        "trusted": true
      },
      "outputs": [
        {
          "execution_count": 18,
          "output_type": "execute_result",
          "data": {
            "text/plain": "2020-07-04    0\n2020-08-04    1\n2021-07-04    2\n2021-08-04    3\ndtype: int64"
          },
          "metadata": {}
        }
      ],
      "execution_count": 18
    },
    {
      "cell_type": "code",
      "source": "data['2020-04-07':'2020-12-04']",
      "metadata": {
        "trusted": true
      },
      "outputs": [
        {
          "execution_count": 19,
          "output_type": "execute_result",
          "data": {
            "text/plain": "2020-07-04    0\n2020-08-04    1\ndtype: int64"
          },
          "metadata": {}
        }
      ],
      "execution_count": 19
    },
    {
      "cell_type": "code",
      "source": "data['2020-04-07':'2021-12-04']",
      "metadata": {
        "trusted": true
      },
      "outputs": [
        {
          "execution_count": 20,
          "output_type": "execute_result",
          "data": {
            "text/plain": "2020-07-04    0\n2020-08-04    1\n2021-07-04    2\n2021-08-04    3\ndtype: int64"
          },
          "metadata": {}
        }
      ],
      "execution_count": 20
    },
    {
      "cell_type": "code",
      "source": "data['2021']",
      "metadata": {
        "trusted": true
      },
      "outputs": [
        {
          "execution_count": 21,
          "output_type": "execute_result",
          "data": {
            "text/plain": "2021-07-04    2\n2021-08-04    3\ndtype: int64"
          },
          "metadata": {}
        }
      ],
      "execution_count": 21
    },
    {
      "cell_type": "code",
      "source": "#datetime ( pd.to_datetime function will convert data into and unified from )\ndates= pd.to_datetime([datetime(2021,7,3),'4th of july,2021','2021-jul-6','07-07-2021','20210708'])\ndates",
      "metadata": {
        "trusted": true
      },
      "outputs": [
        {
          "execution_count": 22,
          "output_type": "execute_result",
          "data": {
            "text/plain": "DatetimeIndex(['2021-07-03', '2021-07-04', '2021-07-06', '2021-07-07',\n               '2021-07-08'],\n              dtype='datetime64[ns]', freq=None)"
          },
          "metadata": {}
        }
      ],
      "execution_count": 22
    },
    {
      "cell_type": "code",
      "source": "#pandas time series",
      "metadata": {
        "trusted": true
      },
      "outputs": [],
      "execution_count": 23
    },
    {
      "cell_type": "code",
      "source": "index = pd.DatetimeIndex(['2020-07-04','2020-08-04','2021-07-04','2021-08-04'])\ndata = pd.Series([0,1,2,3], index=index)\ndata",
      "metadata": {
        "trusted": true
      },
      "outputs": [
        {
          "execution_count": 24,
          "output_type": "execute_result",
          "data": {
            "text/plain": "2020-07-04    0\n2020-08-04    1\n2021-07-04    2\n2021-08-04    3\ndtype: int64"
          },
          "metadata": {}
        }
      ],
      "execution_count": 24
    },
    {
      "cell_type": "code",
      "source": "data['2021']",
      "metadata": {
        "trusted": true
      },
      "outputs": [
        {
          "execution_count": 25,
          "output_type": "execute_result",
          "data": {
            "text/plain": "2021-07-04    2\n2021-08-04    3\ndtype: int64"
          },
          "metadata": {}
        }
      ],
      "execution_count": 25
    },
    {
      "cell_type": "code",
      "source": "data['2020-07-04':'2021-12-04']",
      "metadata": {
        "trusted": true
      },
      "outputs": [
        {
          "execution_count": 26,
          "output_type": "execute_result",
          "data": {
            "text/plain": "2020-07-04    0\n2020-08-04    1\n2021-07-04    2\n2021-08-04    3\ndtype: int64"
          },
          "metadata": {}
        }
      ],
      "execution_count": 26
    },
    {
      "cell_type": "code",
      "source": "\ndates = pd.to_datetime([datetime(2021,7,3), '4th july,2021','2021-Jul-06','07-07-2021','20210708'])\ndates",
      "metadata": {
        "trusted": true
      },
      "outputs": [
        {
          "execution_count": 27,
          "output_type": "execute_result",
          "data": {
            "text/plain": "DatetimeIndex(['2021-07-03', '2021-07-04', '2021-07-06', '2021-07-07',\n               '2021-07-08'],\n              dtype='datetime64[ns]', freq=None)"
          },
          "metadata": {}
        }
      ],
      "execution_count": 27
    },
    {
      "cell_type": "code",
      "source": "dates.to_period('M')",
      "metadata": {
        "trusted": true
      },
      "outputs": [
        {
          "execution_count": 28,
          "output_type": "execute_result",
          "data": {
            "text/plain": "PeriodIndex(['2021-07', '2021-07', '2021-07', '2021-07', '2021-07'], dtype='period[M]')"
          },
          "metadata": {}
        }
      ],
      "execution_count": 28
    },
    {
      "cell_type": "code",
      "source": "dates.to_period('D')",
      "metadata": {
        "trusted": true
      },
      "outputs": [
        {
          "execution_count": 29,
          "output_type": "execute_result",
          "data": {
            "text/plain": "PeriodIndex(['2021-07-03', '2021-07-04', '2021-07-06', '2021-07-07',\n             '2021-07-08'],\n            dtype='period[D]')"
          },
          "metadata": {}
        }
      ],
      "execution_count": 29
    },
    {
      "cell_type": "code",
      "source": "dates - dates[0]",
      "metadata": {
        "trusted": true
      },
      "outputs": [
        {
          "execution_count": 30,
          "output_type": "execute_result",
          "data": {
            "text/plain": "TimedeltaIndex(['0 days', '1 days', '3 days', '4 days', '5 days'], dtype='timedelta64[ns]', freq=None)"
          },
          "metadata": {}
        }
      ],
      "execution_count": 30
    },
    {
      "cell_type": "code",
      "source": "pd.date_range('2015-07-03','2016-07-10')",
      "metadata": {
        "trusted": true
      },
      "outputs": [
        {
          "execution_count": 31,
          "output_type": "execute_result",
          "data": {
            "text/plain": "DatetimeIndex(['2015-07-03', '2015-07-04', '2015-07-05', '2015-07-06',\n               '2015-07-07', '2015-07-08', '2015-07-09', '2015-07-10',\n               '2015-07-11', '2015-07-12',\n               ...\n               '2016-07-01', '2016-07-02', '2016-07-03', '2016-07-04',\n               '2016-07-05', '2016-07-06', '2016-07-07', '2016-07-08',\n               '2016-07-09', '2016-07-10'],\n              dtype='datetime64[ns]', length=374, freq='D')"
          },
          "metadata": {}
        }
      ],
      "execution_count": 31
    },
    {
      "cell_type": "code",
      "source": "pd.date_range('2015-07-03', periods=12)",
      "metadata": {
        "trusted": true
      },
      "outputs": [
        {
          "execution_count": 32,
          "output_type": "execute_result",
          "data": {
            "text/plain": "DatetimeIndex(['2015-07-03', '2015-07-04', '2015-07-05', '2015-07-06',\n               '2015-07-07', '2015-07-08', '2015-07-09', '2015-07-10',\n               '2015-07-11', '2015-07-12', '2015-07-13', '2015-07-14'],\n              dtype='datetime64[ns]', freq='D')"
          },
          "metadata": {}
        }
      ],
      "execution_count": 32
    },
    {
      "cell_type": "code",
      "source": "pd.date_range('2015-07', periods=12, freq='H')",
      "metadata": {
        "trusted": true
      },
      "outputs": [
        {
          "execution_count": 33,
          "output_type": "execute_result",
          "data": {
            "text/plain": "DatetimeIndex(['2015-07-01 00:00:00', '2015-07-01 01:00:00',\n               '2015-07-01 02:00:00', '2015-07-01 03:00:00',\n               '2015-07-01 04:00:00', '2015-07-01 05:00:00',\n               '2015-07-01 06:00:00', '2015-07-01 07:00:00',\n               '2015-07-01 08:00:00', '2015-07-01 09:00:00',\n               '2015-07-01 10:00:00', '2015-07-01 11:00:00'],\n              dtype='datetime64[ns]', freq='H')"
          },
          "metadata": {}
        }
      ],
      "execution_count": 33
    },
    {
      "cell_type": "code",
      "source": "pd.date_range('2015-07', periods=12, freq='M')",
      "metadata": {
        "trusted": true
      },
      "outputs": [
        {
          "execution_count": 34,
          "output_type": "execute_result",
          "data": {
            "text/plain": "DatetimeIndex(['2015-07-31', '2015-08-31', '2015-09-30', '2015-10-31',\n               '2015-11-30', '2015-12-31', '2016-01-31', '2016-02-29',\n               '2016-03-31', '2016-04-30', '2016-05-31', '2016-06-30'],\n              dtype='datetime64[ns]', freq='M')"
          },
          "metadata": {}
        }
      ],
      "execution_count": 34
    },
    {
      "cell_type": "code",
      "source": "",
      "metadata": {
        "trusted": true
      },
      "outputs": [],
      "execution_count": null
    },
    {
      "cell_type": "code",
      "source": "",
      "metadata": {
        "trusted": true
      },
      "outputs": [],
      "execution_count": null
    },
    {
      "cell_type": "code",
      "source": "",
      "metadata": {
        "trusted": true
      },
      "outputs": [],
      "execution_count": null
    }
  ]
}